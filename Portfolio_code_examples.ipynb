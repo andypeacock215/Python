{
  "nbformat": 4,
  "nbformat_minor": 0,
  "metadata": {
    "colab": {
      "provenance": [],
      "authorship_tag": "ABX9TyPGBXbuoryWIBC18cWErgsp",
      "include_colab_link": true
    },
    "kernelspec": {
      "name": "python3",
      "display_name": "Python 3"
    },
    "language_info": {
      "name": "python"
    }
  },
  "cells": [
    {
      "cell_type": "markdown",
      "metadata": {
        "id": "view-in-github",
        "colab_type": "text"
      },
      "source": [
        "<a href=\"https://colab.research.google.com/github/andypeacock215/Python/blob/main/Portfolio_code_examples.ipynb\" target=\"_parent\"><img src=\"https://colab.research.google.com/assets/colab-badge.svg\" alt=\"Open In Colab\"/></a>"
      ]
    },
    {
      "cell_type": "code",
      "execution_count": 8,
      "metadata": {
        "colab": {
          "base_uri": "https://localhost:8080/"
        },
        "id": "hT-gPMO8sUix",
        "outputId": "7edb6765-57f1-4c14-c92d-841d94bf234b"
      },
      "outputs": [
        {
          "output_type": "stream",
          "name": "stdout",
          "text": [
            "1,\t\t2,\t\t\u001b[94mFizz\u001b[0m,\t\t4,\t\t\u001b[91mBuzz\u001b[0m,\t\t\u001b[94mFizz\u001b[0m,\t\t7,\t\t8,\t\t\u001b[94mFizz\u001b[0m,\t\t\u001b[91mBuzz\u001b[0m,\t\t\n",
            "11,\t\t\u001b[94mFizz\u001b[0m,\t\t13,\t\t14,\t\t\u001b[94mFizz\u001b[91mBuzz\u001b[0m,\t16,\t\t17,\t\t\u001b[94mFizz\u001b[0m,\t\t19,\t\t\u001b[91mBuzz\u001b[0m,\t\t\n",
            "\u001b[94mFizz\u001b[0m,\t\t22,\t\t23,\t\t\u001b[94mFizz\u001b[0m,\t\t\u001b[91mBuzz\u001b[0m,\t\t26,\t\t\u001b[94mFizz\u001b[0m,\t\t28,\t\t29,\t\t\u001b[94mFizz\u001b[91mBuzz\u001b[0m,\t\n",
            "31,\t\t32,\t\t\u001b[94mFizz\u001b[0m,\t\t34,\t\t\u001b[91mBuzz\u001b[0m,\t\t\u001b[94mFizz\u001b[0m,\t\t37,\t\t38,\t\t\u001b[94mFizz\u001b[0m,\t\t\u001b[91mBuzz\u001b[0m,\t\t\n",
            "41,\t\t\u001b[94mFizz\u001b[0m,\t\t43,\t\t44,\t\t\u001b[94mFizz\u001b[91mBuzz\u001b[0m,\t46,\t\t47,\t\t\u001b[94mFizz\u001b[0m,\t\t49,\t\t\u001b[91mBuzz\u001b[0m,\t\t\n",
            "\u001b[94mFizz\u001b[0m,\t\t52,\t\t53,\t\t\u001b[94mFizz\u001b[0m,\t\t\u001b[91mBuzz\u001b[0m,\t\t56,\t\t\u001b[94mFizz\u001b[0m,\t\t58,\t\t59,\t\t\u001b[94mFizz\u001b[91mBuzz\u001b[0m,\t\n",
            "61,\t\t62,\t\t\u001b[94mFizz\u001b[0m,\t\t64,\t\t\u001b[91mBuzz\u001b[0m,\t\t\u001b[94mFizz\u001b[0m,\t\t67,\t\t68,\t\t\u001b[94mFizz\u001b[0m,\t\t\u001b[91mBuzz\u001b[0m,\t\t\n",
            "71,\t\t\u001b[94mFizz\u001b[0m,\t\t73,\t\t74,\t\t\u001b[94mFizz\u001b[91mBuzz\u001b[0m,\t76,\t\t77,\t\t\u001b[94mFizz\u001b[0m,\t\t79,\t\t\u001b[91mBuzz\u001b[0m,\t\t\n",
            "\u001b[94mFizz\u001b[0m,\t\t82,\t\t83,\t\t\u001b[94mFizz\u001b[0m,\t\t\u001b[91mBuzz\u001b[0m,\t\t86,\t\t\u001b[94mFizz\u001b[0m,\t\t88,\t\t89,\t\t\u001b[94mFizz\u001b[91mBuzz\u001b[0m,\t\n",
            "91,\t\t92,\t\t\u001b[94mFizz\u001b[0m,\t\t94,\t\t\u001b[91mBuzz\u001b[0m,\t\t\u001b[94mFizz\u001b[0m,\t\t97,\t\t98,\t\t\u001b[94mFizz\u001b[0m,\t\t\u001b[91mBuzz\u001b[0m,\t\t\b\b\b\n",
            "\n"
          ]
        }
      ],
      "source": [
        "for num in range(1,101):                        #repeat from 1 up to 100\n",
        "  if num%15==0: print(\"\\033[94m\" + \"Fizz\" + \"\\033[91m\" + \"Buzz\" + \"\\033[0m\",end=\",\\t\")     #FizzBuzz if divisible by 15\n",
        "  elif num%3==0: print(\"\\033[94m\" + \"Fizz\" + \"\\033[0m\",end=\",\\t\\t\")      #Fizz if divisible by 3\n",
        "  elif num%5==0: print(\"\\033[91m\" + \"Buzz\" + \"\\033[0m\",end=\",\\t\\t\")      #Buzz if divisible by 5\n",
        "  else: print(num,end=\",\\t\\t\")                  #Otherwise display the number\n",
        "  if num==100: print(\"\\b\\b\\b\")                  #Get rid of the comma after 100\n",
        "  num +=  1                                     #Increase to the next number\n",
        "  if num%10==1: print()                         #If now the first number in a new tens group, put a comma then start on a new line"
      ]
    },
    {
      "cell_type": "code",
      "source": [
        "#Check if a number is in Fizz Buzz\n",
        "again=\"y\"                                               #Set variable to say to have a try\n",
        "while again==\"y\":                                       #While loop for while again = \"y\"\n",
        "  num=int(input(\"Enter a number between 1 and 100: \"))  #Get an input\n",
        "  while num>100 or num<1:                               #Make sure it is between 1 and 100\n",
        "    print(num,\"is not between 1 and 100\")\n",
        "    num=int(input(\"Try again: \"))\n",
        "  if num%15==0: print(\"\\033[1m\" + \"FizzBuzz\\n\" + \"\\033[0m\", num, \"is divisible by both 3 and 5\")                       #Use modulus to decide if Fizz, Buzz, both, or neither\n",
        "  elif num%3==0: print(\"\\033[1m\" + \"Fizz\\n\" + \"\\033[0m\", num, \"is divisible by 3\")\n",
        "  elif num%5==0: print(\"\\033[1m\" + \"Buzz\\n\" + \"\\033[0m\", num, \"is divisible by 5\")\n",
        "  else: print(num,\"is \" + \"\\033[1m\" + \"not\" + \"\\033[0m\" + \" in Fizz Buzz\")\n",
        "  again=input(\"\\nDo another? (y/n)\")                    #Ask if they want to try again"
      ],
      "metadata": {
        "colab": {
          "base_uri": "https://localhost:8080/"
        },
        "id": "KJfsDi57sgR7",
        "outputId": "94ef64d1-7a86-4b45-ac95-a087647909bd"
      },
      "execution_count": null,
      "outputs": [
        {
          "name": "stdout",
          "output_type": "stream",
          "text": [
            "Enter a number between 1 and 100: 46\n",
            "46 is \u001b[1mnot\u001b[0m in Fizz Buzz\n",
            "\n",
            "Do another? (y/n)n\n"
          ]
        }
      ]
    },
    {
      "cell_type": "code",
      "source": [
        "# This program says hello and asks for my name.\n",
        "print('Hello, world!')\n",
        "print('What is your name?')    # ask for their name\n",
        "myName = input()\n",
        "print('It is good to meet you, ' + myName)\n",
        "print('The length of your name is:')\n",
        "print(len(myName))\n",
        "print('What is your age?')    # ask for their age\n",
        "myAge = input()\n",
        "print('You will be ' + str(int(myAge) + 1) + ' in a year.')\n",
        "\n",
        "count=1\n",
        "print(\"The factors of \"+str(myAge)+\" are:\")\n",
        "while count<=int(myAge)-1:\n",
        "  if int(myAge)%count==0:\n",
        "    print(count, end=\", \")\n",
        "  count=count+1\n",
        "print(int(myAge))"
      ],
      "metadata": {
        "colab": {
          "base_uri": "https://localhost:8080/"
        },
        "id": "DVvmmXOpssqa",
        "outputId": "de7a1588-ab81-4c87-d47e-19f291089524"
      },
      "execution_count": null,
      "outputs": [
        {
          "output_type": "stream",
          "name": "stdout",
          "text": [
            "Hello, world!\n",
            "What is your name?\n",
            "Ralph\n",
            "It is good to meet you, Ralph\n",
            "The length of your name is:\n",
            "5\n",
            "What is your age?\n",
            "57\n",
            "You will be 58 in a year.\n",
            "The factors of 57 are:\n",
            "1, 3, 19, 57\n"
          ]
        }
      ]
    },
    {
      "cell_type": "code",
      "source": [
        "import random\n",
        "r=random.randint(1,100)\n",
        "count=1\n",
        "print(\"I am thinking of a number between 1 and 100\")\n",
        "guess=int(input(\"Enter an integer between 1 and 100:  \"))\n",
        "while guess!=r:\n",
        "  if guess>100 or guess<1:\n",
        "    print(guess,\"is out of range\")\n",
        "  elif guess>r:\n",
        "    print(guess,\"is \" + \"\\033[1m\" + \"too high\" + \"\\033[0m\")\n",
        "  else:\n",
        "      print(guess,\"is \" + \"\\033[1m\" + \"too low\" + \"\\033[0m\")\n",
        "  count+=1\n",
        "  guess=int(input(\"\\nTry again: \"))\n",
        "print(\"\\nWell done!\",r,\"is my number. You got it in\",count,\"guesses\")"
      ],
      "metadata": {
        "colab": {
          "base_uri": "https://localhost:8080/"
        },
        "id": "ykhqlQHEs5sT",
        "outputId": "7d48ebd3-a5ce-4fcc-8e0e-f9cfeb25c8b2"
      },
      "execution_count": null,
      "outputs": [
        {
          "output_type": "stream",
          "name": "stdout",
          "text": [
            "I am thinking of a number between 1 and 100\n",
            "Enter an integer between 1 and 100:  50\n",
            "50 is \u001b[1mtoo low\u001b[0m\n",
            "\n",
            "Try again: 75\n",
            "75 is \u001b[1mtoo low\u001b[0m\n",
            "\n",
            "Try again: 87\n",
            "87 is \u001b[1mtoo high\u001b[0m\n",
            "\n",
            "Try again: 81\n",
            "81 is \u001b[1mtoo high\u001b[0m\n",
            "\n",
            "Try again: 78\n",
            "78 is \u001b[1mtoo high\u001b[0m\n",
            "\n",
            "Try again: 76\n",
            "\n",
            "Well done! 76 is my number. You got it in 6 guesses\n"
          ]
        }
      ]
    }
  ]
}