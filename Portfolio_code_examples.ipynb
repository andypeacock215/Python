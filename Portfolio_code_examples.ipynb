{
  "nbformat": 4,
  "nbformat_minor": 0,
  "metadata": {
    "colab": {
      "provenance": [],
      "authorship_tag": "ABX9TyM45HeGNtrcOHZmO5bB15ec",
      "include_colab_link": true
    },
    "kernelspec": {
      "name": "python3",
      "display_name": "Python 3"
    },
    "language_info": {
      "name": "python"
    }
  },
  "cells": [
    {
      "cell_type": "markdown",
      "metadata": {
        "id": "view-in-github",
        "colab_type": "text"
      },
      "source": [
        "<a href=\"https://colab.research.google.com/github/andypeacock215/Python/blob/main/Portfolio_code_examples.ipynb\" target=\"_parent\"><img src=\"https://colab.research.google.com/assets/colab-badge.svg\" alt=\"Open In Colab\"/></a>"
      ]
    },
    {
      "cell_type": "code",
      "execution_count": 1,
      "metadata": {
        "colab": {
          "base_uri": "https://localhost:8080/"
        },
        "id": "hT-gPMO8sUix",
        "outputId": "0b308a15-dcde-4b98-efac-3723656f6a20"
      },
      "outputs": [
        {
          "output_type": "stream",
          "name": "stdout",
          "text": [
            "1,\t\t2,\t\tFizz,\t\t4,\t\tBuzz,\t\tFizz,\t\t7,\t\t8,\t\tFizz,\t\tBuzz,\t\t\n",
            "11,\t\tFizz,\t\t13,\t\t14,\t\tFizzBuzz,\t16,\t\t17,\t\tFizz,\t\t19,\t\tBuzz,\t\t\n",
            "Fizz,\t\t22,\t\t23,\t\tFizz,\t\tBuzz,\t\t26,\t\tFizz,\t\t28,\t\t29,\t\tFizzBuzz,\t\n",
            "31,\t\t32,\t\tFizz,\t\t34,\t\tBuzz,\t\tFizz,\t\t37,\t\t38,\t\tFizz,\t\tBuzz,\t\t\n",
            "41,\t\tFizz,\t\t43,\t\t44,\t\tFizzBuzz,\t46,\t\t47,\t\tFizz,\t\t49,\t\tBuzz,\t\t\n",
            "Fizz,\t\t52,\t\t53,\t\tFizz,\t\tBuzz,\t\t56,\t\tFizz,\t\t58,\t\t59,\t\tFizzBuzz,\t\n",
            "61,\t\t62,\t\tFizz,\t\t64,\t\tBuzz,\t\tFizz,\t\t67,\t\t68,\t\tFizz,\t\tBuzz,\t\t\n",
            "71,\t\tFizz,\t\t73,\t\t74,\t\tFizzBuzz,\t76,\t\t77,\t\tFizz,\t\t79,\t\tBuzz,\t\t\n",
            "Fizz,\t\t82,\t\t83,\t\tFizz,\t\tBuzz,\t\t86,\t\tFizz,\t\t88,\t\t89,\t\tFizzBuzz,\t\n",
            "91,\t\t92,\t\tFizz,\t\t94,\t\tBuzz,\t\tFizz,\t\t97,\t\t98,\t\tFizz,\t\tBuzz,\t\t\b\b\b\n",
            "\n"
          ]
        }
      ],
      "source": [
        "for num in range(1,101):                        #repeat from 1 up to 100\n",
        "  if num%15==0: print(\"FizzBuzz\",end=\",\\t\")     #FizzBuzz if divisible by 15\n",
        "  elif num%3==0: print(\"Fizz\",end=\",\\t\\t\")      #Fizz if divisible by 3\n",
        "  elif num%5==0: print(\"Buzz\",end=\",\\t\\t\")      #Buzz if divisible by 5\n",
        "  else: print(num,end=\",\\t\\t\")                  #Otherwise display the number\n",
        "  if num==100: print(\"\\b\\b\\b\")                  #Get rid of the comma after 100\n",
        "  num +=  1                                     #Increase to the next number\n",
        "  if num%10==1: print()                         #If now the first number in a new tens group, put a comma then start on a new line"
      ]
    },
    {
      "cell_type": "code",
      "source": [
        "#Check if a number is in Fizz Buzz\n",
        "again=\"y\"                                               #Set variable to say to have a try\n",
        "while again==\"y\":                                       #While loop for while again = \"y\"\n",
        "  num=int(input(\"Enter a number between 1 and 100: \"))  #Get an input\n",
        "  while num>100 or num<1:                               #Make sure it is between 1 and 100\n",
        "    print(num,\"is not between 1 and 100\")\n",
        "    num=int(input(\"Try again: \"))\n",
        "  if num%15==0: print(\"FizzBuzz\")                       #Use modulus to decide if Fizz, Buzz, both, or neither\n",
        "  elif num%3==0: print(\"Fizz\")\n",
        "  elif num%5==0: print(\"Buzz\")\n",
        "  else: print(num,\"is not in Fizz Buzz\")\n",
        "  again=input(\"\\nDo another? (y/n)\")                    #Ask if they want to try again"
      ],
      "metadata": {
        "colab": {
          "base_uri": "https://localhost:8080/"
        },
        "id": "KJfsDi57sgR7",
        "outputId": "e68cb237-0456-49b0-f4e3-bd917d88363e"
      },
      "execution_count": 2,
      "outputs": [
        {
          "name": "stdout",
          "output_type": "stream",
          "text": [
            "Enter a number between 1 and 100: 34\n",
            "34 is not in Fizz Buzz\n",
            "\n",
            "Do another? (y/n)n\n"
          ]
        }
      ]
    },
    {
      "cell_type": "code",
      "source": [
        "# This program says hello and asks for my name.\n",
        "print('Hello, world!')\n",
        "print('What is your name?')    # ask for their name\n",
        "myName = input()\n",
        "print('It is good to meet you, ' + myName)\n",
        "print('The length of your name is:')\n",
        "print(len(myName))\n",
        "print('What is your age?')    # ask for their age\n",
        "myAge = input()\n",
        "print('You will be ' + str(int(myAge) + 1) + ' in a year.')\n",
        "\n",
        "count=1\n",
        "print(\"The factors of \"+str(myAge)+\" are:\")\n",
        "while count<=int(myAge)-1:\n",
        "  if int(myAge)%count==0:\n",
        "    print(count, end=\", \")\n",
        "  count=count+1\n",
        "print(int(myAge))"
      ],
      "metadata": {
        "colab": {
          "base_uri": "https://localhost:8080/"
        },
        "id": "DVvmmXOpssqa",
        "outputId": "de7a1588-ab81-4c87-d47e-19f291089524"
      },
      "execution_count": 3,
      "outputs": [
        {
          "output_type": "stream",
          "name": "stdout",
          "text": [
            "Hello, world!\n",
            "What is your name?\n",
            "Ralph\n",
            "It is good to meet you, Ralph\n",
            "The length of your name is:\n",
            "5\n",
            "What is your age?\n",
            "57\n",
            "You will be 58 in a year.\n",
            "The factors of 57 are:\n",
            "1, 3, 19, 57\n"
          ]
        }
      ]
    },
    {
      "cell_type": "code",
      "source": [
        "import random\n",
        "r=random.randint(1,100)\n",
        "count=1\n",
        "print(\"I am thinking of a number between 1 and 100\")\n",
        "guess=int(input(\"Enter an integer between 1 and 100:  \"))\n",
        "while guess!=r:\n",
        "  if guess>100 or guess<1:\n",
        "    print(guess,\"is out of range\")\n",
        "  elif guess>r:\n",
        "    print(guess,\"is too high\")\n",
        "  else:\n",
        "      print(guess,\"is too low\")\n",
        "  count+=1\n",
        "  guess=int(input(\"\\nTry again: \"))\n",
        "print(\"\\nWell done!\",r,\"is my number. You got it in\",count,\"guesses\")"
      ],
      "metadata": {
        "colab": {
          "base_uri": "https://localhost:8080/"
        },
        "id": "ykhqlQHEs5sT",
        "outputId": "418da054-9e71-408d-a85a-dc9139538cbc"
      },
      "execution_count": 5,
      "outputs": [
        {
          "output_type": "stream",
          "name": "stdout",
          "text": [
            "I am thinking of a number between 1 and 100\n",
            "Enter an integer between 1 and 100:  50\n",
            "50 is too high\n",
            "\n",
            "Try again: 25\n",
            "25 is too high\n",
            "\n",
            "Try again: 13\n",
            "13 is too low\n",
            "\n",
            "Try again: 19\n",
            "19 is too low\n",
            "\n",
            "Try again: 22\n",
            "22 is too low\n",
            "\n",
            "Try again: 23\n",
            "\n",
            "Well done! 23 is my number. You got it in 6 guesses\n"
          ]
        }
      ]
    }
  ]
}